{
 "cells": [
  {
   "cell_type": "code",
   "execution_count": null,
   "id": "0cdc7a19",
   "metadata": {},
   "outputs": [],
   "source": [
    "import numpy as np \n",
    "import pandas as pd \n",
    "\n",
    "import os\n",
    "for dirname, _, filenames in os.walk('./data'):\n",
    "    for filename in filenames:\n",
    "        print(os.path.join(dirname, filename))\n",
    "        \n",
    "print(os.getcwd())\n"
   ]
  },
  {
   "cell_type": "code",
   "execution_count": null,
   "id": "653dab28",
   "metadata": {},
   "outputs": [],
   "source": [
    "df_demand = pd.read_csv('./data/demand_train.csv',  encoding=\"gbk\")\n",
    "df_stock = pd.read_csv('./data/stock_train.csv',  encoding=\"gbk\")"
   ]
  },
  {
   "cell_type": "code",
   "execution_count": null,
   "id": "4f7413a3",
   "metadata": {},
   "outputs": [],
   "source": [
    "df_demand['过账日期'] = pd.to_datetime(df_demand['过账日期'])\n",
    "\n",
    "df_demand.head(10)"
   ]
  },
  {
   "cell_type": "code",
   "execution_count": null,
   "id": "bfe3125f",
   "metadata": {},
   "outputs": [],
   "source": [
    "df_stock['过账日期'] = pd.to_datetime(df_stock['过账日期'])\n",
    "\n",
    "df_stock.head(10)"
   ]
  },
  {
   "cell_type": "code",
   "execution_count": null,
   "id": "431e3566",
   "metadata": {},
   "outputs": [],
   "source": [
    "# 分析物料编码能否确定唯一工厂编码\n",
    "df_group_test = df_demand.groupby(['物料编码'])['工厂编码'].nunique().reset_index()\n",
    "df_group_test.describe()"
   ]
  },
  {
   "cell_type": "code",
   "execution_count": null,
   "id": "d932382c",
   "metadata": {},
   "outputs": [],
   "source": [
    "# 分析物料编码能否确定唯一物料品类\n",
    "df_group_test = df_demand.groupby(['物料编码'])['物料品类'].nunique().reset_index()\n",
    "df_group_test.describe()"
   ]
  },
  {
   "cell_type": "code",
   "execution_count": null,
   "id": "8b676aa7",
   "metadata": {},
   "outputs": [],
   "source": [
    "# 分析物料编码能否确定唯一物料品牌\n",
    "df_group_test = df_demand.groupby(['物料编码'])['物料品牌'].nunique().reset_index()\n",
    "df_group_test.describe()"
   ]
  },
  {
   "cell_type": "code",
   "execution_count": null,
   "id": "f48dca58",
   "metadata": {},
   "outputs": [],
   "source": [
    "# 分析物料编码能否确定唯一物料类型\n",
    "df_group_test = df_demand.groupby(['物料编码'])['物料类型'].nunique().reset_index()\n",
    "df_group_test.describe()"
   ]
  },
  {
   "cell_type": "code",
   "execution_count": null,
   "id": "d594f052",
   "metadata": {},
   "outputs": [],
   "source": [
    "df_demand.describe()"
   ]
  },
  {
   "cell_type": "code",
   "execution_count": null,
   "id": "f2b91607",
   "metadata": {},
   "outputs": [],
   "source": [
    "df_stock.describe()"
   ]
  },
  {
   "cell_type": "code",
   "execution_count": null,
   "id": "a4276ea5",
   "metadata": {},
   "outputs": [],
   "source": [
    "df_demand.info()"
   ]
  },
  {
   "cell_type": "code",
   "execution_count": null,
   "id": "98c3e19b",
   "metadata": {},
   "outputs": [],
   "source": [
    "df_stock.info()"
   ]
  },
  {
   "cell_type": "code",
   "execution_count": null,
   "id": "65d55145",
   "metadata": {},
   "outputs": [],
   "source": [
    "import seaborn as sns\n",
    "import matplotlib.pyplot as plt\n",
    "\n",
    "# plt.rcParams['font.sans-serif'] = ['SimHei']  # For Windows\n",
    "plt.rcParams['font.sans-serif'] = ['Arial Unicode MS']  # For Mac\n",
    "plt.rcParams['axes.unicode_minus'] = False  # This is to display minus signs correctly\n",
    "\n",
    "\n",
    "df_demand_sorted = df_demand.sort_values('过账日期')\n",
    "\n",
    "plt.figure(figsize=(12, 6))\n",
    "sns.lineplot(x='过账日期', y='需求量', data=df_demand_sorted, marker='o', color='b')\n",
    "plt.title('Demand Over Time')\n",
    "plt.xlabel('Date')\n",
    "plt.ylabel('Demand Quantity')\n",
    "plt.xticks(rotation=45)\n",
    "plt.tight_layout()\n",
    "plt.grid(True)\n",
    "plt.show()"
   ]
  },
  {
   "cell_type": "code",
   "execution_count": null,
   "id": "e1648147",
   "metadata": {},
   "outputs": [],
   "source": [
    "df_filtered = df_demand[['需求量', '工厂编码']]\n",
    "df_grouped = df_filtered.groupby('工厂编码').sum().reset_index()\n",
    "df_grouped.describe()"
   ]
  },
  {
   "cell_type": "code",
   "execution_count": null,
   "id": "aed84640",
   "metadata": {},
   "outputs": [],
   "source": [
    "plt.figure(figsize=(10, 6))\n",
    "sns.barplot(data=df_grouped, x='工厂编码', y='需求量', palette='viridis', hue='工厂编码')\n",
    "plt.xlabel('工厂编码')\n",
    "plt.ylabel('需求量')\n",
    "plt.show()"
   ]
  },
  {
   "cell_type": "code",
   "execution_count": null,
   "id": "a0f15a7d",
   "metadata": {},
   "outputs": [],
   "source": [
    "df_filtered = df_demand[['需求量', '物料编码']]\n",
    "df_grouped = df_filtered.groupby('物料编码').sum().reset_index()\n",
    "df_grouped.describe()\n",
    "# plt.figure(figsize=(10, 6))\n",
    "# sns.barplot(data=df_grouped, x='物料编码', y='需求量', palette='viridis')\n",
    "# plt.title('Total Demand by Factory Code')\n",
    "# plt.xlabel('Material Code')\n",
    "# plt.ylabel('Total Demand')\n",
    "# plt.show()"
   ]
  },
  {
   "cell_type": "code",
   "execution_count": null,
   "id": "9d9efc53",
   "metadata": {},
   "outputs": [],
   "source": [
    "df_filtered = df_demand[['需求量', '物料类型']]\n",
    "df_grouped = df_filtered.groupby('物料类型').sum().reset_index()\n",
    "df_grouped.describe()"
   ]
  },
  {
   "cell_type": "code",
   "execution_count": null,
   "id": "6670a747",
   "metadata": {},
   "outputs": [],
   "source": [
    "plt.figure(figsize=(10, 6))\n",
    "sns.barplot(data=df_grouped, x='物料类型', y='需求量', palette='viridis')\n",
    "plt.title('物料类型的需求量')\n",
    "plt.xlabel('物料类型')\n",
    "plt.ylabel('需求量')\n",
    "plt.show()"
   ]
  },
  {
   "cell_type": "code",
   "execution_count": null,
   "id": "83cd668a",
   "metadata": {},
   "outputs": [],
   "source": [
    "df_demand['年月'] = df_demand['过账日期'].dt.to_period('M').astype(str)\n",
    "df_demand['月'] = df_demand['年月'].str[-2:]\n",
    "df_demand['季度'] = df_demand['过账日期'].dt.quarter\n",
    "df_demand.head()"
   ]
  },
  {
   "cell_type": "code",
   "execution_count": null,
   "id": "217f6adc",
   "metadata": {},
   "outputs": [],
   "source": [
    "df_grouped = df_demand.groupby(['年月', '工厂编码', '物料编码'])['需求量'].sum().reset_index()\n",
    "df_grouped.head()"
   ]
  },
  {
   "cell_type": "code",
   "execution_count": null,
   "id": "64178be3",
   "metadata": {},
   "outputs": [],
   "source": [
    "plt.figure(figsize=(12, 6))\n",
    "\n",
    "sns.lineplot(\n",
    "    data=df_grouped,\n",
    "    x='年月',\n",
    "    y='需求量',\n",
    "    hue='工厂编码',\n",
    "    style='工厂编码',\n",
    "    markers=True,\n",
    "    dashes=False,\n",
    "    palette='Set2',  # 配色方案\n",
    "    linewidth=2.5,\n",
    "    markersize=10\n",
    ")\n",
    "\n",
    "plt.title('各工厂年月需求量趋势', fontsize=14, pad=20)\n",
    "plt.xlabel('年月', fontsize=12)\n",
    "plt.ylabel('总需求量', fontsize=12)\n",
    "plt.xticks(rotation=45)\n",
    "\n",
    "plt.legend(\n",
    "    title='工厂编码',\n",
    "    bbox_to_anchor=(1.05, 1),\n",
    "    loc='upper left',\n",
    "    borderaxespad=0.\n",
    ")\n",
    "\n",
    "# 调整布局\n",
    "plt.tight_layout()\n",
    "plt.show()"
   ]
  },
  {
   "cell_type": "code",
   "execution_count": null,
   "id": "9b7941a7",
   "metadata": {},
   "outputs": [],
   "source": [
    "df_grouped = df_demand.groupby(['月', '工厂编码', '物料编码'])['需求量'].sum().reset_index()\n",
    "df_grouped.head()"
   ]
  },
  {
   "cell_type": "code",
   "execution_count": null,
   "id": "4e2b3e2c",
   "metadata": {},
   "outputs": [],
   "source": [
    "plt.figure(figsize=(12, 6))\n",
    "\n",
    "sns.lineplot(\n",
    "    data=df_grouped,\n",
    "    x='月',\n",
    "    y='需求量',\n",
    "    hue='工厂编码',\n",
    "    style='工厂编码',\n",
    "    markers=True,\n",
    "    dashes=False,\n",
    "    palette='Set2',  # 配色方案\n",
    "    linewidth=2.5,\n",
    "    markersize=10\n",
    ")\n",
    "\n",
    "plt.title('各工厂月度需求量趋势', fontsize=14, pad=20)\n",
    "plt.xlabel('月', fontsize=12)\n",
    "plt.ylabel('总需求量', fontsize=12)\n",
    "plt.xticks(rotation=45)\n",
    "\n",
    "plt.legend(\n",
    "    title='工厂编码',\n",
    "    bbox_to_anchor=(1.05, 1),\n",
    "    loc='upper left',\n",
    "    borderaxespad=0.\n",
    ")\n",
    "\n",
    "# 调整布局\n",
    "plt.tight_layout()\n",
    "plt.show()"
   ]
  },
  {
   "cell_type": "code",
   "execution_count": null,
   "id": "0561f4e9",
   "metadata": {},
   "outputs": [],
   "source": [
    "df_grouped = df_demand.groupby(['季度', '工厂编码', '物料编码'])['需求量'].sum().reset_index()\n",
    "df_grouped.head()"
   ]
  },
  {
   "cell_type": "code",
   "execution_count": null,
   "id": "ce70cf30",
   "metadata": {},
   "outputs": [],
   "source": [
    "plt.figure(figsize=(12, 6))\n",
    "\n",
    "sns.lineplot(\n",
    "    data=df_grouped,\n",
    "    x='季度',\n",
    "    y='需求量',\n",
    "    hue='工厂编码',\n",
    "    style='工厂编码',\n",
    "    markers=True,\n",
    "    dashes=False,\n",
    "    palette='Set2',  # 配色方案\n",
    "    linewidth=2.5,\n",
    "    markersize=10\n",
    ")\n",
    "\n",
    "plt.title('各工厂季度需求量趋势', fontsize=14, pad=20)\n",
    "plt.xlabel('季度', fontsize=12)\n",
    "plt.ylabel('总需求量', fontsize=12)\n",
    "plt.xticks(rotation=45)\n",
    "\n",
    "plt.legend(\n",
    "    title='工厂编码',\n",
    "    bbox_to_anchor=(1.05, 1),\n",
    "    loc='upper left',\n",
    "    borderaxespad=0.\n",
    ")\n",
    "\n",
    "# 调整布局\n",
    "plt.tight_layout()\n",
    "plt.show()"
   ]
  },
  {
   "cell_type": "code",
   "execution_count": null,
   "id": "f0928379",
   "metadata": {},
   "outputs": [],
   "source": []
  }
 ],
 "metadata": {
  "kernelspec": {
   "display_name": ".venv",
   "language": "python",
   "name": "python3"
  },
  "language_info": {
   "codemirror_mode": {
    "name": "ipython",
    "version": 3
   },
   "file_extension": ".py",
   "mimetype": "text/x-python",
   "name": "python",
   "nbconvert_exporter": "python",
   "pygments_lexer": "ipython3",
   "version": "3.12.4"
  }
 },
 "nbformat": 4,
 "nbformat_minor": 5
}
